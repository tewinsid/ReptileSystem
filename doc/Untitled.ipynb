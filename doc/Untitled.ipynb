{
 "cells": [
  {
   "cell_type": "raw",
   "metadata": {},
   "source": [
    "目标站点分析\n",
    "猫眼电影：\n",
    "    目标页面的扩展方式，分页如何实现：通过url的offset参数\n",
    "    查看页面html\n",
    "        目标元素的组成\n",
    "    流程框架\n",
    "        抓取单页内容\n",
    "        正则表达式分析\n",
    "        信息存储　文件　数据库\n",
    "        循环多线程抓取所有信息"
   ]
  }
 ],
 "metadata": {
  "kernelspec": {
   "display_name": "Python 3",
   "language": "python",
   "name": "python3"
  },
  "language_info": {
   "codemirror_mode": {
    "name": "ipython",
    "version": 3
   },
   "file_extension": ".py",
   "mimetype": "text/x-python",
   "name": "python",
   "nbconvert_exporter": "python",
   "pygments_lexer": "ipython3",
   "version": "3.6.7"
  }
 },
 "nbformat": 4,
 "nbformat_minor": 2
}
